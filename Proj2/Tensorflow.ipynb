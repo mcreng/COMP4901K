{
 "cells": [
  {
   "cell_type": "code",
   "execution_count": 12,
   "metadata": {},
   "outputs": [],
   "source": [
    "import numpy as np\n",
    "import tensorflow as tf\n",
    "from tensorflow import keras\n",
    "from tensorflow.keras.models import Sequential\n",
    "from tensorflow.keras.layers import Dense, Activation, Dropout\n",
    "from tensorflow.keras.optimizers import SGD\n",
    "from tensorflow.keras import metrics"
   ]
  },
  {
   "cell_type": "code",
   "execution_count": 13,
   "metadata": {},
   "outputs": [
    {
     "name": "stdout",
     "output_type": "stream",
     "text": [
      "Train: (16000, 123770) (16000,)\n",
      "Vocab: 123770\n",
      "Test: (4491, 123770) (4491,)\n"
     ]
    }
   ],
   "source": [
    "import pandas as pd\n",
    "p = np.load('1-5.npy')\n",
    "train_data_matrix, test_data_matrix, vocab, train_data_label, test_id = p\n",
    "print('Train:', train_data_matrix.shape, train_data_label.shape)\n",
    "print('Vocab:', len(vocab))\n",
    "print('Test:', test_data_matrix.shape, test_id.shape)"
   ]
  },
  {
   "cell_type": "code",
   "execution_count": 3,
   "metadata": {},
   "outputs": [
    {
     "name": "stdout",
     "output_type": "stream",
     "text": [
      "Train: (16000, 1000) (16000, 6)\n",
      "Vocab: 123770\n",
      "Test: (4491, 1000) (4491,)\n"
     ]
    }
   ],
   "source": [
    "from sklearn import random_projection\n",
    "rand_proj_transformer = random_projection.GaussianRandomProjection(n_components=1000, eps=0.5)\n",
    "train_data_matrix = rand_proj_transformer.fit_transform(train_data_matrix)\n",
    "test_data_matrix = rand_proj_transformer.transform(test_data_matrix)"
   ]
  },
  {
   "cell_type": "code",
   "execution_count": 14,
   "metadata": {},
   "outputs": [
    {
     "name": "stdout",
     "output_type": "stream",
     "text": [
      "Train: (16000, 123770) (16000, 6)\n",
      "Vocab: 123770\n",
      "Test: (4491, 123770) (4491,)\n"
     ]
    }
   ],
   "source": [
    "# Converts a class vector to binary class matrix.\n",
    "K = np.max(train_data_label)+1  # labels begin with 0\n",
    "train_data_label = keras.utils.to_categorical(\n",
    "    train_data_label, num_classes=K)\n",
    "print('Train:', train_data_matrix.shape, train_data_label.shape)\n",
    "print('Vocab:', len(vocab))\n",
    "print('Test:', test_data_matrix.shape, test_id.shape)"
   ]
  },
  {
   "cell_type": "code",
   "execution_count": 15,
   "metadata": {},
   "outputs": [
    {
     "name": "stdout",
     "output_type": "stream",
     "text": [
      "Val: (1000, 123770) (1000, 6)\n",
      "Train: (15000, 123770) (15000, 6)\n"
     ]
    }
   ],
   "source": [
    "x_val = train_data_matrix[:1000]\n",
    "x_train = train_data_matrix[1000:]\n",
    "y_val = train_data_label[:1000]\n",
    "y_train = train_data_label[1000:]\n",
    "print('Val:', x_val.shape, y_val.shape)\n",
    "print('Train:', x_train.shape, y_train.shape)"
   ]
  },
  {
   "cell_type": "code",
   "execution_count": null,
   "metadata": {
    "scrolled": true
   },
   "outputs": [
    {
     "name": "stdout",
     "output_type": "stream",
     "text": [
      "Train on 15000 samples, validate on 1000 samples\n",
      "Epoch 1/50\n",
      "15000/15000 [==============================] - 22s 1ms/step - loss: 4.0825 - acc: 0.4436 - val_loss: 4.3942 - val_acc: 0.3340\n",
      "Epoch 2/50\n",
      "15000/15000 [==============================] - 21s 1ms/step - loss: 3.2178 - acc: 0.6487 - val_loss: 3.5339 - val_acc: 0.3340\n",
      "Epoch 3/50\n",
      "15000/15000 [==============================] - 22s 1ms/step - loss: 2.3432 - acc: 0.7487 - val_loss: 3.1239 - val_acc: 0.3540\n",
      "Epoch 4/50\n",
      "15000/15000 [==============================] - 22s 1ms/step - loss: 1.9629 - acc: 0.8024 - val_loss: 2.9836 - val_acc: 0.3800\n",
      "Epoch 5/50\n",
      "15000/15000 [==============================] - 24s 2ms/step - loss: 1.7809 - acc: 0.8253 - val_loss: 2.9514 - val_acc: 0.3980\n",
      "Epoch 6/50\n",
      "15000/15000 [==============================] - 21s 1ms/step - loss: 1.7006 - acc: 0.8460 - val_loss: 2.8937 - val_acc: 0.4060\n",
      "Epoch 7/50\n",
      "15000/15000 [==============================] - 22s 1ms/step - loss: 1.6111 - acc: 0.8634 - val_loss: 2.8833 - val_acc: 0.4300\n",
      "Epoch 8/50\n",
      "15000/15000 [==============================] - 22s 1ms/step - loss: 1.6067 - acc: 0.8615 - val_loss: 2.7496 - val_acc: 0.4540\n",
      "Epoch 9/50\n",
      "15000/15000 [==============================] - 31s 2ms/step - loss: 1.5691 - acc: 0.8735 - val_loss: 2.5545 - val_acc: 0.4780\n",
      "Epoch 10/50\n",
      "15000/15000 [==============================] - 27s 2ms/step - loss: 1.5520 - acc: 0.8711 - val_loss: 2.5207 - val_acc: 0.5160\n",
      "Epoch 11/50\n",
      "15000/15000 [==============================] - 23s 2ms/step - loss: 1.5455 - acc: 0.8763 - val_loss: 2.4897 - val_acc: 0.5250\n",
      "Epoch 12/50\n",
      "15000/15000 [==============================] - 22s 1ms/step - loss: 1.5534 - acc: 0.8793 - val_loss: 2.4841 - val_acc: 0.5340\n",
      "Epoch 13/50\n",
      "15000/15000 [==============================] - 21s 1ms/step - loss: 1.5297 - acc: 0.8761 - val_loss: 2.4417 - val_acc: 0.5470\n",
      "Epoch 14/50\n",
      "15000/15000 [==============================] - 21s 1ms/step - loss: 1.5432 - acc: 0.8821 - val_loss: 2.5629 - val_acc: 0.5460\n",
      "Epoch 15/50\n",
      "15000/15000 [==============================] - 22s 1ms/step - loss: 1.5483 - acc: 0.8767 - val_loss: 2.4891 - val_acc: 0.5370\n",
      "Epoch 16/50\n",
      "14848/15000 [============================>.] - ETA: 0s - loss: 1.5224 - acc: 0.8826\n",
      "Epoch 00016: ReduceLROnPlateau reducing learning rate to 0.0005000000237487257.\n",
      "15000/15000 [==============================] - 31s 2ms/step - loss: 1.5253 - acc: 0.8821 - val_loss: 2.5388 - val_acc: 0.5630\n",
      "Epoch 17/50\n",
      "15000/15000 [==============================] - 26s 2ms/step - loss: 1.3207 - acc: 0.9130 - val_loss: 2.2383 - val_acc: 0.5580\n",
      "Epoch 18/50\n",
      "15000/15000 [==============================] - 24s 2ms/step - loss: 0.9534 - acc: 0.9400 - val_loss: 2.1042 - val_acc: 0.5620\n",
      "Epoch 19/50\n",
      "15000/15000 [==============================] - 22s 1ms/step - loss: 0.8137 - acc: 0.9478 - val_loss: 2.0974 - val_acc: 0.5460\n",
      "Epoch 20/50\n",
      "15000/15000 [==============================] - 21s 1ms/step - loss: 0.7873 - acc: 0.9465 - val_loss: 2.1288 - val_acc: 0.5550\n",
      "Epoch 21/50\n",
      "15000/15000 [==============================] - 22s 1ms/step - loss: 0.8167 - acc: 0.9435 - val_loss: 2.2405 - val_acc: 0.5370\n",
      "Epoch 22/50\n",
      "14848/15000 [============================>.] - ETA: 0s - loss: 0.8867 - acc: 0.9324\n",
      "Epoch 00022: ReduceLROnPlateau reducing learning rate to 0.0002500000118743628.\n",
      "15000/15000 [==============================] - 28s 2ms/step - loss: 0.8875 - acc: 0.9321 - val_loss: 2.2170 - val_acc: 0.5490\n",
      "Epoch 23/50\n",
      "15000/15000 [==============================] - 30s 2ms/step - loss: 0.8197 - acc: 0.9535 - val_loss: 2.1109 - val_acc: 0.5670\n",
      "Epoch 24/50\n",
      "15000/15000 [==============================] - 24s 2ms/step - loss: 0.6678 - acc: 0.9686 - val_loss: 2.0365 - val_acc: 0.5560\n",
      "Epoch 25/50\n",
      "15000/15000 [==============================] - 23s 2ms/step - loss: 0.5676 - acc: 0.9742 - val_loss: 2.0645 - val_acc: 0.5470\n",
      "Epoch 26/50\n",
      "15000/15000 [==============================] - 22s 1ms/step - loss: 0.5026 - acc: 0.9761 - val_loss: 2.0856 - val_acc: 0.5440\n",
      "Epoch 27/50\n",
      "14848/15000 [============================>.] - ETA: 0s - loss: 0.4624 - acc: 0.9780\n",
      "Epoch 00027: ReduceLROnPlateau reducing learning rate to 0.0001250000059371814.\n",
      "15000/15000 [==============================] - 22s 1ms/step - loss: 0.4624 - acc: 0.9781 - val_loss: 2.0728 - val_acc: 0.5540\n",
      "Epoch 28/50\n",
      "15000/15000 [==============================] - 23s 2ms/step - loss: 0.4239 - acc: 0.9824 - val_loss: 2.0441 - val_acc: 0.5570\n",
      "Epoch 29/50\n",
      "15000/15000 [==============================] - 33s 2ms/step - loss: 0.3872 - acc: 0.9840 - val_loss: 2.0276 - val_acc: 0.5570\n",
      "Epoch 30/50\n",
      "15000/15000 [==============================] - 27s 2ms/step - loss: 0.3582 - acc: 0.9850 - val_loss: 2.0181 - val_acc: 0.5490\n",
      "Epoch 31/50\n",
      "15000/15000 [==============================] - 23s 2ms/step - loss: 0.3328 - acc: 0.9881 - val_loss: 2.0277 - val_acc: 0.5470\n",
      "Epoch 32/50\n",
      " 1792/15000 [==>...........................] - ETA: 18s - loss: 0.3136 - acc: 0.9916"
     ]
    }
   ],
   "source": [
    "model = Sequential([\n",
    "    Dense(100, input_dim=x_val.shape[1], activation='relu', kernel_regularizer=tf.keras.regularizers.l2(l=0.01)),\n",
    "    tf.keras.layers.BatchNormalization(),\n",
    "    Dropout(0.5),\n",
    "    Dense(100, activation='relu', kernel_regularizer=tf.keras.regularizers.l2(l=0.01)),\n",
    "    tf.keras.layers.BatchNormalization(),\n",
    "    Dropout(0.5),\n",
    "    Dense(100, activation='relu', kernel_regularizer=tf.keras.regularizers.l2(l=0.01)),\n",
    "    Dense(y_train.shape[1], activation='softmax')\n",
    "])\n",
    "\n",
    "model.compile(optimizer=keras.optimizers.Adam(lr=0.001), \n",
    "              loss='categorical_crossentropy',\n",
    "              metrics=['accuracy'])\n",
    "\n",
    "history = model.fit(x_train, y_train,\n",
    "              epochs=50, batch_size=256, validation_data=(x_val, y_val),\n",
    "                    callbacks=[tf.keras.callbacks.ReduceLROnPlateau(monitor='val_loss', factor=0.5,\n",
    "                              patience=3, min_lr=1e-5, verbose=1)])\n"
   ]
  },
  {
   "cell_type": "code",
   "execution_count": 7,
   "metadata": {},
   "outputs": [
    {
     "data": {
      "image/png": "[encoded data removed]",
      "text/plain": [
       "<Figure size 432x288 with 1 Axes>"
      ]
     },
     "metadata": {
      "needs_background": "light"
     },
     "output_type": "display_data"
    },
    {
     "data": {
      "image/png": "[encoded data removed]",
      "text/plain": [
       "<Figure size 432x288 with 1 Axes>"
      ]
     },
     "metadata": {
      "needs_background": "light"
     },
     "output_type": "display_data"
    }
   ],
   "source": [
    "import matplotlib.pyplot as plt\n",
    "\n",
    "acc = history.history['acc']\n",
    "val_acc = history.history['val_acc']\n",
    "loss = history.history['loss']\n",
    "val_loss = history.history['val_loss']\n",
    "\n",
    "epochs = range(1, len(acc) + 1)\n",
    "\n",
    "plt.figure(0)\n",
    "plt.plot(epochs, loss, 'bo', label='Training loss')\n",
    "plt.plot(epochs, val_loss, 'b', label='Validation loss')\n",
    "plt.title('Training and validation loss')\n",
    "plt.xlabel('Epochs')\n",
    "plt.ylabel('Loss')\n",
    "plt.legend()\n",
    "\n",
    "plt.figure(1)\n",
    "plt.plot(epochs, acc, 'bo', label='Training acc')\n",
    "plt.plot(epochs, val_acc, 'b', label='Validation acc')\n",
    "plt.title('Training and validation accuracy')\n",
    "plt.xlabel('Epochs')\n",
    "plt.ylabel('Accuracy')\n",
    "plt.legend()\n",
    "\n",
    "plt.show()"
   ]
  }
 ],
 "metadata": {
  "kernelspec": {
   "display_name": "Python 3",
   "language": "python",
   "name": "python3"
  },
  "language_info": {
   "codemirror_mode": {
    "name": "ipython",
    "version": 3
   },
   "file_extension": ".py",
   "mimetype": "text/x-python",
   "name": "python",
   "nbconvert_exporter": "python",
   "pygments_lexer": "ipython3",
   "version": "3.6.6"
  }
 },
 "nbformat": 4,
 "nbformat_minor": 2
}
